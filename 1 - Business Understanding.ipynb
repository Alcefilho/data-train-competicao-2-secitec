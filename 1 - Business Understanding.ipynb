{
 "cells": [
  {
   "cell_type": "markdown",
   "metadata": {},
   "source": [
    "# [Data Train] Competição ML #2 - SECITEC 2020 IFG\n",
    "## CRISP-DM: Business Understanding\n",
    "**Autor:** Wanderson Marques - wdsmarques@gmail.com\n",
    "\n",
    "Esse Jupyter Notebook contém **informações** sobre Mortalidade Infantil. O entendimento do negócio é uma importante fase de qualquer projeto de Data Science, sendo contemplado pela primeira fase do CRISP-DM. \n",
    "\n",
    "<img src=\"imgs/businessUnderstanding.jpg\" />"
   ]
  },
  {
   "cell_type": "markdown",
   "metadata": {},
   "source": [
    "# Link da competição"
   ]
  },
  {
   "cell_type": "markdown",
   "metadata": {},
   "source": [
    "## https://www.kaggle.com/c/data-train-secitec-ifg\n",
    "***"
   ]
  },
  {
   "cell_type": "markdown",
   "metadata": {},
   "source": [
    "### Objetivo do projeto"
   ]
  },
  {
   "cell_type": "markdown",
   "metadata": {},
   "source": [
    "> \"Nosso objetivo aqui é prever, com base nas características da mãe, da gestação e do recém-nascido, quais são os bebês com maior risco de óbito\""
   ]
  },
  {
   "cell_type": "markdown",
   "metadata": {},
   "source": [
    "### Informações úteis\n",
    "\n",
    "> Entre os diversos indicadores de saúde, a Taxa de Mortalidade Infantil (TMI) é usada internacionalmente pela <a href=\"https://www.unicef.org/\">UNICEF</a>, como sendo um importante indicador de saúde de uma população. Devido a sua importância, a <a href=\"http://www.un.org\">ONU</a> elegeu a mortalidade na infância (mortes entre crianças menores de 5 anos de idade, sendo que o seu componente de maior magnitude as mortes em menores de 1 ano de vida) como um dos Objetivos de Desenvolvimento do Milênio-ODM [Sardinha 2014].\n",
    "\n",
    "> A TMI é padronizada internacionalmente como o número de óbitos de crianças menores de um ano sobre o número de nascidos vivos(multiplicada por 1.000) e indica o risco de um nascido vivo evoluir para o óbito [França e Lansky 2009].\n",
    "\n",
    "> O risco de morte no primeiro ano de vida se associa com frequência ao grau de desenvolvimento de uma sociedade, incluindo não apenas a atenção à saúde, mas as questões que indiretamente afetam a saúde, tais como as condições de saneamento, escolaridade, renda, exposição à agentes infecciosos, higiene, entre outros fatores condicionantes e determinantes da saúde [Sardinha 2014].\n",
    "\n",
    "> A Meta 4 dos Objetivos de Desenvolvimento do Milênio, assumida pela Assembleia das Nações Unidas, prevê uma redução de dois terços na mortalidade de crianças menores de cinco anos de idade entre 1990 e 2015, o que corresponde a uma diminuição média anual de 4,4% para o Brasil no período [Lisboa et al. 2015]. O autor ainda referencia que mesmo com os avanços obtidos, os progressos alcançados pelo grupo de recém-nascidos, na comparação com as demais crianças do grupamento de menores de cinco anos, foram menos importantes.\n",
    "\n",
    "> O planejamento em saúde para redução dos óbitos infantis é complexo devido a diversos fatores como as incertezas inerentes ao tema e ao número elevado de variáveis que podem influenciar na tomada de decisão. A seguir são listados alguns destes fatores citados em [França e Lansky 2009] [Kropiwiec, Franco e Amaral 2017]\n",
    "[Basumatary 2016]:\n",
    "\n",
    "> - Óbitos neonatais entre os óbitos infantis;\n",
    "- Anomalias congênitas entre os óbitos neonatais;\n",
    "- Afecções perinatais entre os óbitos neonatais;\n",
    "- Idade materna;\n",
    "- Tipo de gestação;\n",
    "- Sexo do Recém-Nascido;\n",
    "- Malformações;\n",
    "- Prematuridade;\n",
    "- Baixo Peso ao Nascer.\n",
    "\n",
    "> Embora o seguimento de saúde já empregue métodos e técnicas da Ciência de Dados, estes têm se restringindo a aplicações centradas no paciente [Chawla e Davis 2013] [Spruit e Lytras 2018], no controle de doenças [Anker et al. 2017] e uso de medicamentos [Fingert 2018]."
   ]
  },
  {
   "cell_type": "markdown",
   "metadata": {},
   "source": [
    "### Tipo do projeto"
   ]
  },
  {
   "cell_type": "markdown",
   "metadata": {},
   "source": [
    "Classificação Binária"
   ]
  },
  {
   "cell_type": "markdown",
   "metadata": {},
   "source": [
    "### Métrica de Avaliação"
   ]
  },
  {
   "cell_type": "markdown",
   "metadata": {},
   "source": [
    "AUC"
   ]
  },
  {
   "cell_type": "code",
   "execution_count": null,
   "metadata": {},
   "outputs": [],
   "source": []
  }
 ],
 "metadata": {
  "kernelspec": {
   "display_name": "Python 3",
   "language": "python",
   "name": "python3"
  },
  "language_info": {
   "codemirror_mode": {
    "name": "ipython",
    "version": 3
   },
   "file_extension": ".py",
   "mimetype": "text/x-python",
   "name": "python",
   "nbconvert_exporter": "python",
   "pygments_lexer": "ipython3",
   "version": "3.7.6"
  }
 },
 "nbformat": 4,
 "nbformat_minor": 2
}
