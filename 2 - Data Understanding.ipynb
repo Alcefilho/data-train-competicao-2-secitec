{
 "cells": [
  {
   "cell_type": "markdown",
   "metadata": {},
   "source": [
    "# [Data Train] Competição ML #2 - SECITEC 2020 IFG\n",
    "## CRISP-DM: Data Understanding\n",
    "**Autor:** Wanderson Marques - wdsmarques@gmail.com\n",
    "\n",
    "Esse Jupyter Notebook contém uma **análise exploratória** dos dados. Considerando a metodologia CRISP-DM, essa atividade refere-se à segunda fase, o entendimento dos dados. \n",
    "\n",
    "<img src=\"imgs/dataUnderstanding.jpg\" />"
   ]
  },
  {
   "cell_type": "markdown",
   "metadata": {},
   "source": [
    "### Carregar bibliotecas"
   ]
  },
  {
   "cell_type": "code",
   "execution_count": 1,
   "metadata": {},
   "outputs": [],
   "source": [
    "import pandas as pd\n",
    "import numpy as np\n",
    "import matplotlib.pyplot as plt\n",
    "import seaborn as sns\n",
    "from pylab import rcParams"
   ]
  },
  {
   "cell_type": "code",
   "execution_count": 2,
   "metadata": {},
   "outputs": [],
   "source": [
    "# Exibir gráficos dentro do Jupyter Notebook\n",
    "%matplotlib inline\n",
    "\n",
    "# Definir tamanho padrão para os gráficos\n",
    "rcParams['figure.figsize'] = 17, 4"
   ]
  },
  {
   "cell_type": "markdown",
   "metadata": {},
   "source": [
    "### Carregar dataset"
   ]
  },
  {
   "cell_type": "code",
   "execution_count": 9,
   "metadata": {},
   "outputs": [],
   "source": [
    "dataset = pd.read_csv('datasets/treino.csv')\n",
    "\n",
    "# Eliminar o identificador dos passageiros\n",
    "dataset.drop(['id'], axis=1, inplace=True)"
   ]
  },
  {
   "cell_type": "markdown",
   "metadata": {},
   "source": [
    "### Entender os atributos"
   ]
  },
  {
   "cell_type": "markdown",
   "metadata": {},
   "source": [
    ">#### Dicionário de dados:\n",
    ">**idademae**: Idade da mãe em anos <br>\n",
    "**estadocivilmae:** Estado Civil da Mãe <br>\n",
    "**catprenatal:** Quantidade de Consultas pré-natal realizadas pela mãe\t <br>\n",
    "**qtdsemanas:** Idade gestacional no momento do parto em semanas\t <br>\n",
    "**tipoparto**: Tipo do parto\t <br>\n",
    "**peso:** Peso do recém-nascido no momento do nascimento em gramas\t <br>\n",
    "**malformacao:** Se foi observada alguma mal formação no bebê\t <br> \n",
    "**sexo:** Sexo do recém-nascio (f=feminino, m=masculino)\t <br>\n",
    "**apgar1:** Apgar no 1º Minuto\t <br>\n",
    "**apgar5:** Apgar no 5º Minuto <br>\n",
    "**obito:** Indica se o recém-nascido veio a óbito antes de completar 1 ano de vida"
   ]
  },
  {
   "cell_type": "markdown",
   "metadata": {},
   "source": [
    "### Verificar tipos dos atributos"
   ]
  },
  {
   "cell_type": "code",
   "execution_count": 10,
   "metadata": {},
   "outputs": [
    {
     "data": {
      "text/plain": [
       "idademae          float64\n",
       "estadocivilmae     object\n",
       "catprenatal        object\n",
       "qtdsemanas        float64\n",
       "tipoparto          object\n",
       "peso              float64\n",
       "malformacao        object\n",
       "sexo               object\n",
       "apgar1            float64\n",
       "apgar5            float64\n",
       "obito               int64\n",
       "dtype: object"
      ]
     },
     "execution_count": 10,
     "metadata": {},
     "output_type": "execute_result"
    }
   ],
   "source": [
    "dataset.dtypes"
   ]
  },
  {
   "cell_type": "markdown",
   "metadata": {},
   "source": [
    "### Ver forma do dataset"
   ]
  },
  {
   "cell_type": "code",
   "execution_count": 11,
   "metadata": {},
   "outputs": [
    {
     "name": "stdout",
     "output_type": "stream",
     "text": [
      "O dataset contém  11389 instâncias e  11  atributos.\n"
     ]
    }
   ],
   "source": [
    "# [0] = Quantidade de instâncias\n",
    "# [1] = Quantidade de atributos\n",
    "print(\"O dataset contém \", dataset.shape[0], \"instâncias e \", dataset.shape[1], \" atributos.\")"
   ]
  },
  {
   "cell_type": "markdown",
   "metadata": {},
   "source": [
    "### Observar amostra dos dados"
   ]
  },
  {
   "cell_type": "code",
   "execution_count": 12,
   "metadata": {},
   "outputs": [
    {
     "data": {
      "text/html": [
       "<div>\n",
       "<style scoped>\n",
       "    .dataframe tbody tr th:only-of-type {\n",
       "        vertical-align: middle;\n",
       "    }\n",
       "\n",
       "    .dataframe tbody tr th {\n",
       "        vertical-align: top;\n",
       "    }\n",
       "\n",
       "    .dataframe thead th {\n",
       "        text-align: right;\n",
       "    }\n",
       "</style>\n",
       "<table border=\"1\" class=\"dataframe\">\n",
       "  <thead>\n",
       "    <tr style=\"text-align: right;\">\n",
       "      <th></th>\n",
       "      <th>idademae</th>\n",
       "      <th>estadocivilmae</th>\n",
       "      <th>catprenatal</th>\n",
       "      <th>qtdsemanas</th>\n",
       "      <th>tipoparto</th>\n",
       "      <th>peso</th>\n",
       "      <th>malformacao</th>\n",
       "      <th>sexo</th>\n",
       "      <th>apgar1</th>\n",
       "      <th>apgar5</th>\n",
       "      <th>obito</th>\n",
       "    </tr>\n",
       "  </thead>\n",
       "  <tbody>\n",
       "    <tr>\n",
       "      <th>4042</th>\n",
       "      <td>25.0</td>\n",
       "      <td>uniao</td>\n",
       "      <td>de4a6</td>\n",
       "      <td>36.0</td>\n",
       "      <td>cesareo</td>\n",
       "      <td>1230.0</td>\n",
       "      <td>nao</td>\n",
       "      <td>m</td>\n",
       "      <td>6.0</td>\n",
       "      <td>8.0</td>\n",
       "      <td>0</td>\n",
       "    </tr>\n",
       "    <tr>\n",
       "      <th>3912</th>\n",
       "      <td>21.0</td>\n",
       "      <td>casada</td>\n",
       "      <td>7mais</td>\n",
       "      <td>39.0</td>\n",
       "      <td>cesareo</td>\n",
       "      <td>4370.0</td>\n",
       "      <td>nao</td>\n",
       "      <td>m</td>\n",
       "      <td>9.0</td>\n",
       "      <td>10.0</td>\n",
       "      <td>0</td>\n",
       "    </tr>\n",
       "    <tr>\n",
       "      <th>9692</th>\n",
       "      <td>22.0</td>\n",
       "      <td>solteira</td>\n",
       "      <td>7mais</td>\n",
       "      <td>39.0</td>\n",
       "      <td>cesareo</td>\n",
       "      <td>3770.0</td>\n",
       "      <td>nao</td>\n",
       "      <td>m</td>\n",
       "      <td>7.0</td>\n",
       "      <td>8.0</td>\n",
       "      <td>0</td>\n",
       "    </tr>\n",
       "    <tr>\n",
       "      <th>432</th>\n",
       "      <td>16.0</td>\n",
       "      <td>uniao</td>\n",
       "      <td>de4a6</td>\n",
       "      <td>25.0</td>\n",
       "      <td>cesareo</td>\n",
       "      <td>720.0</td>\n",
       "      <td>NaN</td>\n",
       "      <td>f</td>\n",
       "      <td>1.0</td>\n",
       "      <td>0.0</td>\n",
       "      <td>1</td>\n",
       "    </tr>\n",
       "    <tr>\n",
       "      <th>4956</th>\n",
       "      <td>27.0</td>\n",
       "      <td>uniao</td>\n",
       "      <td>de4a6</td>\n",
       "      <td>35.0</td>\n",
       "      <td>vaginal</td>\n",
       "      <td>2660.0</td>\n",
       "      <td>nao</td>\n",
       "      <td>m</td>\n",
       "      <td>8.0</td>\n",
       "      <td>10.0</td>\n",
       "      <td>0</td>\n",
       "    </tr>\n",
       "    <tr>\n",
       "      <th>4931</th>\n",
       "      <td>23.0</td>\n",
       "      <td>casada</td>\n",
       "      <td>7mais</td>\n",
       "      <td>39.0</td>\n",
       "      <td>cesareo</td>\n",
       "      <td>3100.0</td>\n",
       "      <td>nao</td>\n",
       "      <td>m</td>\n",
       "      <td>8.0</td>\n",
       "      <td>10.0</td>\n",
       "      <td>0</td>\n",
       "    </tr>\n",
       "    <tr>\n",
       "      <th>9217</th>\n",
       "      <td>28.0</td>\n",
       "      <td>solteira</td>\n",
       "      <td>7mais</td>\n",
       "      <td>39.0</td>\n",
       "      <td>vaginal</td>\n",
       "      <td>2000.0</td>\n",
       "      <td>nao</td>\n",
       "      <td>m</td>\n",
       "      <td>0.0</td>\n",
       "      <td>1.0</td>\n",
       "      <td>1</td>\n",
       "    </tr>\n",
       "    <tr>\n",
       "      <th>9641</th>\n",
       "      <td>31.0</td>\n",
       "      <td>casada</td>\n",
       "      <td>de4a6</td>\n",
       "      <td>41.0</td>\n",
       "      <td>cesareo</td>\n",
       "      <td>2990.0</td>\n",
       "      <td>nao</td>\n",
       "      <td>f</td>\n",
       "      <td>7.0</td>\n",
       "      <td>9.0</td>\n",
       "      <td>0</td>\n",
       "    </tr>\n",
       "    <tr>\n",
       "      <th>3169</th>\n",
       "      <td>17.0</td>\n",
       "      <td>uniao</td>\n",
       "      <td>7mais</td>\n",
       "      <td>37.0</td>\n",
       "      <td>cesareo</td>\n",
       "      <td>3142.0</td>\n",
       "      <td>nao</td>\n",
       "      <td>f</td>\n",
       "      <td>1.0</td>\n",
       "      <td>6.0</td>\n",
       "      <td>0</td>\n",
       "    </tr>\n",
       "    <tr>\n",
       "      <th>7343</th>\n",
       "      <td>30.0</td>\n",
       "      <td>casada</td>\n",
       "      <td>7mais</td>\n",
       "      <td>38.0</td>\n",
       "      <td>vaginal</td>\n",
       "      <td>3502.0</td>\n",
       "      <td>nao</td>\n",
       "      <td>f</td>\n",
       "      <td>9.0</td>\n",
       "      <td>10.0</td>\n",
       "      <td>0</td>\n",
       "    </tr>\n",
       "  </tbody>\n",
       "</table>\n",
       "</div>"
      ],
      "text/plain": [
       "      idademae estadocivilmae catprenatal  qtdsemanas tipoparto    peso  \\\n",
       "4042      25.0          uniao       de4a6        36.0   cesareo  1230.0   \n",
       "3912      21.0         casada       7mais        39.0   cesareo  4370.0   \n",
       "9692      22.0       solteira       7mais        39.0   cesareo  3770.0   \n",
       "432       16.0          uniao       de4a6        25.0   cesareo   720.0   \n",
       "4956      27.0          uniao       de4a6        35.0   vaginal  2660.0   \n",
       "4931      23.0         casada       7mais        39.0   cesareo  3100.0   \n",
       "9217      28.0       solteira       7mais        39.0   vaginal  2000.0   \n",
       "9641      31.0         casada       de4a6        41.0   cesareo  2990.0   \n",
       "3169      17.0          uniao       7mais        37.0   cesareo  3142.0   \n",
       "7343      30.0         casada       7mais        38.0   vaginal  3502.0   \n",
       "\n",
       "     malformacao sexo  apgar1  apgar5  obito  \n",
       "4042         nao    m     6.0     8.0      0  \n",
       "3912         nao    m     9.0    10.0      0  \n",
       "9692         nao    m     7.0     8.0      0  \n",
       "432          NaN    f     1.0     0.0      1  \n",
       "4956         nao    m     8.0    10.0      0  \n",
       "4931         nao    m     8.0    10.0      0  \n",
       "9217         nao    m     0.0     1.0      1  \n",
       "9641         nao    f     7.0     9.0      0  \n",
       "3169         nao    f     1.0     6.0      0  \n",
       "7343         nao    f     9.0    10.0      0  "
      ]
     },
     "execution_count": 12,
     "metadata": {},
     "output_type": "execute_result"
    }
   ],
   "source": [
    "# .sample() Mostra uma amostra aleatória\n",
    "# .head() Mostra as primeiras instâncias\n",
    "# .tail() Mostra as últimas instâncias\n",
    "dataset.sample(10)"
   ]
  },
  {
   "cell_type": "markdown",
   "metadata": {},
   "source": [
    "### Descrever estatisticamente os dados"
   ]
  },
  {
   "cell_type": "code",
   "execution_count": 13,
   "metadata": {},
   "outputs": [
    {
     "data": {
      "text/html": [
       "<div>\n",
       "<style scoped>\n",
       "    .dataframe tbody tr th:only-of-type {\n",
       "        vertical-align: middle;\n",
       "    }\n",
       "\n",
       "    .dataframe tbody tr th {\n",
       "        vertical-align: top;\n",
       "    }\n",
       "\n",
       "    .dataframe thead th {\n",
       "        text-align: right;\n",
       "    }\n",
       "</style>\n",
       "<table border=\"1\" class=\"dataframe\">\n",
       "  <thead>\n",
       "    <tr style=\"text-align: right;\">\n",
       "      <th></th>\n",
       "      <th>idademae</th>\n",
       "      <th>qtdsemanas</th>\n",
       "      <th>peso</th>\n",
       "      <th>apgar1</th>\n",
       "      <th>apgar5</th>\n",
       "      <th>obito</th>\n",
       "    </tr>\n",
       "  </thead>\n",
       "  <tbody>\n",
       "    <tr>\n",
       "      <th>count</th>\n",
       "      <td>11389.000000</td>\n",
       "      <td>11163.000000</td>\n",
       "      <td>11387.000000</td>\n",
       "      <td>11289.000000</td>\n",
       "      <td>11294.000000</td>\n",
       "      <td>11389.000000</td>\n",
       "    </tr>\n",
       "    <tr>\n",
       "      <th>mean</th>\n",
       "      <td>25.793748</td>\n",
       "      <td>36.952611</td>\n",
       "      <td>2818.527883</td>\n",
       "      <td>7.503765</td>\n",
       "      <td>8.716664</td>\n",
       "      <td>0.260427</td>\n",
       "    </tr>\n",
       "    <tr>\n",
       "      <th>std</th>\n",
       "      <td>6.468443</td>\n",
       "      <td>4.421121</td>\n",
       "      <td>930.575296</td>\n",
       "      <td>2.348192</td>\n",
       "      <td>2.120168</td>\n",
       "      <td>0.438887</td>\n",
       "    </tr>\n",
       "    <tr>\n",
       "      <th>min</th>\n",
       "      <td>11.000000</td>\n",
       "      <td>19.000000</td>\n",
       "      <td>150.000000</td>\n",
       "      <td>0.000000</td>\n",
       "      <td>0.000000</td>\n",
       "      <td>0.000000</td>\n",
       "    </tr>\n",
       "    <tr>\n",
       "      <th>25%</th>\n",
       "      <td>21.000000</td>\n",
       "      <td>37.000000</td>\n",
       "      <td>2550.000000</td>\n",
       "      <td>7.000000</td>\n",
       "      <td>9.000000</td>\n",
       "      <td>0.000000</td>\n",
       "    </tr>\n",
       "    <tr>\n",
       "      <th>50%</th>\n",
       "      <td>25.000000</td>\n",
       "      <td>38.000000</td>\n",
       "      <td>3060.000000</td>\n",
       "      <td>8.000000</td>\n",
       "      <td>9.000000</td>\n",
       "      <td>0.000000</td>\n",
       "    </tr>\n",
       "    <tr>\n",
       "      <th>75%</th>\n",
       "      <td>30.000000</td>\n",
       "      <td>39.000000</td>\n",
       "      <td>3412.000000</td>\n",
       "      <td>9.000000</td>\n",
       "      <td>10.000000</td>\n",
       "      <td>1.000000</td>\n",
       "    </tr>\n",
       "    <tr>\n",
       "      <th>max</th>\n",
       "      <td>52.000000</td>\n",
       "      <td>45.000000</td>\n",
       "      <td>6651.000000</td>\n",
       "      <td>10.000000</td>\n",
       "      <td>10.000000</td>\n",
       "      <td>1.000000</td>\n",
       "    </tr>\n",
       "  </tbody>\n",
       "</table>\n",
       "</div>"
      ],
      "text/plain": [
       "           idademae    qtdsemanas          peso        apgar1        apgar5  \\\n",
       "count  11389.000000  11163.000000  11387.000000  11289.000000  11294.000000   \n",
       "mean      25.793748     36.952611   2818.527883      7.503765      8.716664   \n",
       "std        6.468443      4.421121    930.575296      2.348192      2.120168   \n",
       "min       11.000000     19.000000    150.000000      0.000000      0.000000   \n",
       "25%       21.000000     37.000000   2550.000000      7.000000      9.000000   \n",
       "50%       25.000000     38.000000   3060.000000      8.000000      9.000000   \n",
       "75%       30.000000     39.000000   3412.000000      9.000000     10.000000   \n",
       "max       52.000000     45.000000   6651.000000     10.000000     10.000000   \n",
       "\n",
       "              obito  \n",
       "count  11389.000000  \n",
       "mean       0.260427  \n",
       "std        0.438887  \n",
       "min        0.000000  \n",
       "25%        0.000000  \n",
       "50%        0.000000  \n",
       "75%        1.000000  \n",
       "max        1.000000  "
      ]
     },
     "execution_count": 13,
     "metadata": {},
     "output_type": "execute_result"
    }
   ],
   "source": [
    "# Somente atributos numéricos são considerados\n",
    "dataset.describe()"
   ]
  },
  {
   "cell_type": "markdown",
   "metadata": {},
   "source": [
    "Por meio da análise de quartis, já pode-se perceber a presença de outliers em algumas variáveis. A tabela descritiva também trás outras informações relevantes, como os valores máximos, mínimos e desvio padrão para cada atributo."
   ]
  },
  {
   "cell_type": "markdown",
   "metadata": {},
   "source": [
    "### Verificar presença de valores nulos"
   ]
  },
  {
   "cell_type": "code",
   "execution_count": 14,
   "metadata": {},
   "outputs": [
    {
     "data": {
      "text/plain": [
       "idademae            0\n",
       "estadocivilmae     96\n",
       "catprenatal        40\n",
       "qtdsemanas        226\n",
       "tipoparto           5\n",
       "peso                2\n",
       "malformacao       304\n",
       "sexo               39\n",
       "apgar1            100\n",
       "apgar5             95\n",
       "obito               0\n",
       "dtype: int64"
      ]
     },
     "execution_count": 14,
     "metadata": {},
     "output_type": "execute_result"
    }
   ],
   "source": [
    "# Quantidade absoluta\n",
    "totalNulos = (dataset.isnull()).sum()\n",
    "totalNulos"
   ]
  },
  {
   "cell_type": "markdown",
   "metadata": {},
   "source": [
    "### Separar atributos numéricos e categóricos"
   ]
  },
  {
   "cell_type": "code",
   "execution_count": 15,
   "metadata": {},
   "outputs": [
    {
     "data": {
      "text/plain": [
       "idademae          0.000000\n",
       "estadocivilmae    0.842919\n",
       "catprenatal       0.351216\n",
       "qtdsemanas        1.984371\n",
       "tipoparto         0.043902\n",
       "peso              0.017561\n",
       "malformacao       2.669242\n",
       "sexo              0.342436\n",
       "apgar1            0.878040\n",
       "apgar5            0.834138\n",
       "obito             0.000000\n",
       "dtype: float64"
      ]
     },
     "execution_count": 15,
     "metadata": {},
     "output_type": "execute_result"
    }
   ],
   "source": [
    "# Percentual\n",
    "percentualNulos = (totalNulos / len(dataset)) * 100\n",
    "percentualNulos"
   ]
  },
  {
   "cell_type": "markdown",
   "metadata": {},
   "source": [
    "Em relação aos valores nulos, o atributo malformacao é o que mais se destaca."
   ]
  },
  {
   "cell_type": "code",
   "execution_count": 16,
   "metadata": {},
   "outputs": [],
   "source": [
    "# Apenas atributos int e float\n",
    "numericos = (dataset.select_dtypes(include=['int64', 'float64'])).columns"
   ]
  },
  {
   "cell_type": "code",
   "execution_count": 17,
   "metadata": {},
   "outputs": [],
   "source": [
    "# Apenas atributos object (string)\n",
    "categoricos = (dataset.select_dtypes(include=['object'])).columns"
   ]
  },
  {
   "cell_type": "markdown",
   "metadata": {},
   "source": [
    "### Visualizar presença de outliers  (atributos numéricos)"
   ]
  },
  {
   "cell_type": "code",
   "execution_count": 18,
   "metadata": {},
   "outputs": [
    {
     "data": {
      "image/png": "[encoded data removed]",
      "text/plain": [
       "<Figure size 1224x288 with 6 Axes>"
      ]
     },
     "metadata": {
      "needs_background": "light"
     },
     "output_type": "display_data"
    }
   ],
   "source": [
    "fig, ax = plt.subplots(ncols=len(numericos), nrows=1)\n",
    "plt.suptitle(\"Boxplots dos Atributos Numéricos\")\n",
    "\n",
    "# Gráfico para cada atributo numérico\n",
    "for i in range(0, len(numericos)):\n",
    "    feature = numericos[i]\n",
    "    sns.boxplot(dataset[feature], ax=ax[i], orient='vertical')"
   ]
  },
  {
   "cell_type": "markdown",
   "metadata": {},
   "source": [
    "Os boxplots acima mostra ainda mais claramente a existência de outliers para quase todas as variáveis. Em etapas posteriores, pode ser que seja necessário realizar algum tratamento nas instâncias que apresentam esse tipo de comportamento."
   ]
  },
  {
   "cell_type": "markdown",
   "metadata": {},
   "source": [
    "### Visualizar distribuição dos dados (atributos numéricos)"
   ]
  },
  {
   "cell_type": "code",
   "execution_count": 19,
   "metadata": {},
   "outputs": [
    {
     "data": {
      "image/png": "[encoded data removed]",
      "text/plain": [
       "<Figure size 1224x288 with 6 Axes>"
      ]
     },
     "metadata": {
      "needs_background": "light"
     },
     "output_type": "display_data"
    }
   ],
   "source": [
    "fig, ax = plt.subplots(ncols=len(numericos), nrows=1)\n",
    "plt.suptitle(\"Histogramas dos Atributos Numéricos\")\n",
    "\n",
    "# Histograma para cada atributo numérico\n",
    "for i in range(0, len(numericos)):\n",
    "    feature = numericos[i]\n",
    "    ax[i].set_title(feature)\n",
    "    dataset[feature].plot(kind='hist', ax=ax[i])"
   ]
  },
  {
   "cell_type": "markdown",
   "metadata": {},
   "source": [
    "Analisando as distribuições, temos que:\n",
    "- A variável idademae é a que mais se aproxima de uma Distribuição Normal\n",
    "- A classe óbito está desbalanceada"
   ]
  },
  {
   "cell_type": "markdown",
   "metadata": {},
   "source": [
    "### Visualizar distribuição dos dados (atributos categóricos)"
   ]
  },
  {
   "cell_type": "code",
   "execution_count": 20,
   "metadata": {},
   "outputs": [
    {
     "data": {
      "image/png": "[encoded data removed]",
      "text/plain": [
       "<Figure size 1224x288 with 5 Axes>"
      ]
     },
     "metadata": {
      "needs_background": "light"
     },
     "output_type": "display_data"
    }
   ],
   "source": [
    "fig, ax = plt.subplots(ncols=len(categoricos), nrows=1)\n",
    "plt.suptitle(\"Gráficos de Barra dos Atributos Categóricos\")\n",
    "\n",
    "# Gráfico para cada atributo categórico\n",
    "for i in range(0, len(categoricos)):\n",
    "    feature = categoricos[i]\n",
    "    ax[i].set_title(feature)\n",
    "    dataset[feature].value_counts().plot(kind='bar', ax=ax[i])"
   ]
  },
  {
   "cell_type": "markdown",
   "metadata": {},
   "source": [
    "### Calcular correlações"
   ]
  },
  {
   "cell_type": "code",
   "execution_count": 21,
   "metadata": {},
   "outputs": [
    {
     "data": {
      "text/plain": [
       "<matplotlib.axes._subplots.AxesSubplot at 0x2736fb5ee88>"
      ]
     },
     "execution_count": 21,
     "metadata": {},
     "output_type": "execute_result"
    },
    {
     "data": {
      "image/png": "[encoded data removed]",
      "text/plain": [
       "<Figure size 1224x288 with 2 Axes>"
      ]
     },
     "metadata": {
      "needs_background": "light"
     },
     "output_type": "display_data"
    }
   ],
   "source": [
    "# Somente atributos numéricos são considerados\n",
    "plt.suptitle(\"Gráfico de Calor das Correlações entre os Atributos Numéricos\")\n",
    "sns.heatmap(dataset.corr(), annot=True, cmap='Blues')"
   ]
  },
  {
   "cell_type": "markdown",
   "metadata": {},
   "source": [
    "O gráfico de calor mostra que as variáveis mais correlacionadas são Apgar1 e Apgar5 (positivamente) e obito e apgar1 (negativamente)."
   ]
  }
 ],
 "metadata": {
  "kernelspec": {
   "display_name": "Python 3",
   "language": "python",
   "name": "python3"
  },
  "language_info": {
   "codemirror_mode": {
    "name": "ipython",
    "version": 3
   },
   "file_extension": ".py",
   "mimetype": "text/x-python",
   "name": "python",
   "nbconvert_exporter": "python",
   "pygments_lexer": "ipython3",
   "version": "3.7.6"
  }
 },
 "nbformat": 4,
 "nbformat_minor": 2
}
