{
 "cells": [
  {
   "cell_type": "markdown",
   "metadata": {},
   "source": [
    "# [Data Train] Competição ML #2 - SECITEC 2020 IFG\n",
    "## CRISP-DM: Data Preparation\n",
    "**Autor:** Wanderson Marques - wdsmarques@gmail.com\n",
    "\n",
    "Esse Jupyter Notebook contém o **pré-processamento** do conjunto de dados. Considerando a metodologia CRISP-DM, essa atividade refere-se à terceira fase, a preparação dos dados. \n",
    "\n",
    "<img src=\"imgs/dataPreparation.jpg\" />"
   ]
  },
  {
   "cell_type": "markdown",
   "metadata": {},
   "source": [
    "### Carregar bibliotecas"
   ]
  },
  {
   "cell_type": "code",
   "execution_count": 1,
   "metadata": {},
   "outputs": [],
   "source": [
    "import pandas as pd\n",
    "import joblib\n",
    "from sklearn.model_selection import train_test_split"
   ]
  },
  {
   "cell_type": "markdown",
   "metadata": {},
   "source": [
    "### Carregar dataset"
   ]
  },
  {
   "cell_type": "code",
   "execution_count": 2,
   "metadata": {},
   "outputs": [
    {
     "data": {
      "text/html": [
       "<div>\n",
       "<style scoped>\n",
       "    .dataframe tbody tr th:only-of-type {\n",
       "        vertical-align: middle;\n",
       "    }\n",
       "\n",
       "    .dataframe tbody tr th {\n",
       "        vertical-align: top;\n",
       "    }\n",
       "\n",
       "    .dataframe thead th {\n",
       "        text-align: right;\n",
       "    }\n",
       "</style>\n",
       "<table border=\"1\" class=\"dataframe\">\n",
       "  <thead>\n",
       "    <tr style=\"text-align: right;\">\n",
       "      <th></th>\n",
       "      <th>id</th>\n",
       "      <th>idademae</th>\n",
       "      <th>estadocivilmae</th>\n",
       "      <th>catprenatal</th>\n",
       "      <th>qtdsemanas</th>\n",
       "      <th>tipoparto</th>\n",
       "      <th>peso</th>\n",
       "      <th>malformacao</th>\n",
       "      <th>sexo</th>\n",
       "      <th>apgar1</th>\n",
       "      <th>apgar5</th>\n",
       "      <th>obito</th>\n",
       "    </tr>\n",
       "  </thead>\n",
       "  <tbody>\n",
       "    <tr>\n",
       "      <th>0</th>\n",
       "      <td>2708</td>\n",
       "      <td>13.0</td>\n",
       "      <td>solteira</td>\n",
       "      <td>de4a6</td>\n",
       "      <td>36.0</td>\n",
       "      <td>vaginal</td>\n",
       "      <td>2440.0</td>\n",
       "      <td>nao</td>\n",
       "      <td>f</td>\n",
       "      <td>9.0</td>\n",
       "      <td>10.0</td>\n",
       "      <td>0</td>\n",
       "    </tr>\n",
       "    <tr>\n",
       "      <th>1</th>\n",
       "      <td>14097</td>\n",
       "      <td>25.0</td>\n",
       "      <td>casada</td>\n",
       "      <td>7mais</td>\n",
       "      <td>39.0</td>\n",
       "      <td>cesareo</td>\n",
       "      <td>2850.0</td>\n",
       "      <td>nao</td>\n",
       "      <td>f</td>\n",
       "      <td>9.0</td>\n",
       "      <td>10.0</td>\n",
       "      <td>0</td>\n",
       "    </tr>\n",
       "    <tr>\n",
       "      <th>2</th>\n",
       "      <td>5360</td>\n",
       "      <td>27.0</td>\n",
       "      <td>solteira</td>\n",
       "      <td>7mais</td>\n",
       "      <td>38.0</td>\n",
       "      <td>cesareo</td>\n",
       "      <td>3350.0</td>\n",
       "      <td>nao</td>\n",
       "      <td>f</td>\n",
       "      <td>9.0</td>\n",
       "      <td>10.0</td>\n",
       "      <td>0</td>\n",
       "    </tr>\n",
       "    <tr>\n",
       "      <th>3</th>\n",
       "      <td>15902</td>\n",
       "      <td>28.0</td>\n",
       "      <td>solteira</td>\n",
       "      <td>7mais</td>\n",
       "      <td>41.0</td>\n",
       "      <td>vaginal</td>\n",
       "      <td>3065.0</td>\n",
       "      <td>nao</td>\n",
       "      <td>m</td>\n",
       "      <td>8.0</td>\n",
       "      <td>9.0</td>\n",
       "      <td>0</td>\n",
       "    </tr>\n",
       "    <tr>\n",
       "      <th>4</th>\n",
       "      <td>8985</td>\n",
       "      <td>21.0</td>\n",
       "      <td>solteira</td>\n",
       "      <td>de4a6</td>\n",
       "      <td>39.0</td>\n",
       "      <td>cesareo</td>\n",
       "      <td>3085.0</td>\n",
       "      <td>nao</td>\n",
       "      <td>f</td>\n",
       "      <td>8.0</td>\n",
       "      <td>9.0</td>\n",
       "      <td>0</td>\n",
       "    </tr>\n",
       "  </tbody>\n",
       "</table>\n",
       "</div>"
      ],
      "text/plain": [
       "      id  idademae estadocivilmae catprenatal  qtdsemanas tipoparto    peso  \\\n",
       "0   2708      13.0       solteira       de4a6        36.0   vaginal  2440.0   \n",
       "1  14097      25.0         casada       7mais        39.0   cesareo  2850.0   \n",
       "2   5360      27.0       solteira       7mais        38.0   cesareo  3350.0   \n",
       "3  15902      28.0       solteira       7mais        41.0   vaginal  3065.0   \n",
       "4   8985      21.0       solteira       de4a6        39.0   cesareo  3085.0   \n",
       "\n",
       "  malformacao sexo  apgar1  apgar5  obito  \n",
       "0         nao    f     9.0    10.0      0  \n",
       "1         nao    f     9.0    10.0      0  \n",
       "2         nao    f     9.0    10.0      0  \n",
       "3         nao    m     8.0     9.0      0  \n",
       "4         nao    f     8.0     9.0      0  "
      ]
     },
     "execution_count": 2,
     "metadata": {},
     "output_type": "execute_result"
    }
   ],
   "source": [
    "dataset = pd.read_csv('datasets/treino.csv')\n",
    "dataset.head()"
   ]
  },
  {
   "cell_type": "code",
   "execution_count": 3,
   "metadata": {},
   "outputs": [
    {
     "data": {
      "text/plain": [
       "(11389, 12)"
      ]
     },
     "execution_count": 3,
     "metadata": {},
     "output_type": "execute_result"
    }
   ],
   "source": [
    "dataset.shape"
   ]
  },
  {
   "cell_type": "markdown",
   "metadata": {},
   "source": [
    "### Descartar o identificador"
   ]
  },
  {
   "cell_type": "code",
   "execution_count": 4,
   "metadata": {},
   "outputs": [
    {
     "data": {
      "text/html": [
       "<div>\n",
       "<style scoped>\n",
       "    .dataframe tbody tr th:only-of-type {\n",
       "        vertical-align: middle;\n",
       "    }\n",
       "\n",
       "    .dataframe tbody tr th {\n",
       "        vertical-align: top;\n",
       "    }\n",
       "\n",
       "    .dataframe thead th {\n",
       "        text-align: right;\n",
       "    }\n",
       "</style>\n",
       "<table border=\"1\" class=\"dataframe\">\n",
       "  <thead>\n",
       "    <tr style=\"text-align: right;\">\n",
       "      <th></th>\n",
       "      <th>idademae</th>\n",
       "      <th>estadocivilmae</th>\n",
       "      <th>catprenatal</th>\n",
       "      <th>qtdsemanas</th>\n",
       "      <th>tipoparto</th>\n",
       "      <th>peso</th>\n",
       "      <th>malformacao</th>\n",
       "      <th>sexo</th>\n",
       "      <th>apgar1</th>\n",
       "      <th>apgar5</th>\n",
       "      <th>obito</th>\n",
       "    </tr>\n",
       "  </thead>\n",
       "  <tbody>\n",
       "    <tr>\n",
       "      <th>0</th>\n",
       "      <td>13.0</td>\n",
       "      <td>solteira</td>\n",
       "      <td>de4a6</td>\n",
       "      <td>36.0</td>\n",
       "      <td>vaginal</td>\n",
       "      <td>2440.0</td>\n",
       "      <td>nao</td>\n",
       "      <td>f</td>\n",
       "      <td>9.0</td>\n",
       "      <td>10.0</td>\n",
       "      <td>0</td>\n",
       "    </tr>\n",
       "    <tr>\n",
       "      <th>1</th>\n",
       "      <td>25.0</td>\n",
       "      <td>casada</td>\n",
       "      <td>7mais</td>\n",
       "      <td>39.0</td>\n",
       "      <td>cesareo</td>\n",
       "      <td>2850.0</td>\n",
       "      <td>nao</td>\n",
       "      <td>f</td>\n",
       "      <td>9.0</td>\n",
       "      <td>10.0</td>\n",
       "      <td>0</td>\n",
       "    </tr>\n",
       "    <tr>\n",
       "      <th>2</th>\n",
       "      <td>27.0</td>\n",
       "      <td>solteira</td>\n",
       "      <td>7mais</td>\n",
       "      <td>38.0</td>\n",
       "      <td>cesareo</td>\n",
       "      <td>3350.0</td>\n",
       "      <td>nao</td>\n",
       "      <td>f</td>\n",
       "      <td>9.0</td>\n",
       "      <td>10.0</td>\n",
       "      <td>0</td>\n",
       "    </tr>\n",
       "    <tr>\n",
       "      <th>3</th>\n",
       "      <td>28.0</td>\n",
       "      <td>solteira</td>\n",
       "      <td>7mais</td>\n",
       "      <td>41.0</td>\n",
       "      <td>vaginal</td>\n",
       "      <td>3065.0</td>\n",
       "      <td>nao</td>\n",
       "      <td>m</td>\n",
       "      <td>8.0</td>\n",
       "      <td>9.0</td>\n",
       "      <td>0</td>\n",
       "    </tr>\n",
       "    <tr>\n",
       "      <th>4</th>\n",
       "      <td>21.0</td>\n",
       "      <td>solteira</td>\n",
       "      <td>de4a6</td>\n",
       "      <td>39.0</td>\n",
       "      <td>cesareo</td>\n",
       "      <td>3085.0</td>\n",
       "      <td>nao</td>\n",
       "      <td>f</td>\n",
       "      <td>8.0</td>\n",
       "      <td>9.0</td>\n",
       "      <td>0</td>\n",
       "    </tr>\n",
       "  </tbody>\n",
       "</table>\n",
       "</div>"
      ],
      "text/plain": [
       "   idademae estadocivilmae catprenatal  qtdsemanas tipoparto    peso  \\\n",
       "0      13.0       solteira       de4a6        36.0   vaginal  2440.0   \n",
       "1      25.0         casada       7mais        39.0   cesareo  2850.0   \n",
       "2      27.0       solteira       7mais        38.0   cesareo  3350.0   \n",
       "3      28.0       solteira       7mais        41.0   vaginal  3065.0   \n",
       "4      21.0       solteira       de4a6        39.0   cesareo  3085.0   \n",
       "\n",
       "  malformacao sexo  apgar1  apgar5  obito  \n",
       "0         nao    f     9.0    10.0      0  \n",
       "1         nao    f     9.0    10.0      0  \n",
       "2         nao    f     9.0    10.0      0  \n",
       "3         nao    m     8.0     9.0      0  \n",
       "4         nao    f     8.0     9.0      0  "
      ]
     },
     "execution_count": 4,
     "metadata": {},
     "output_type": "execute_result"
    }
   ],
   "source": [
    "dataset.drop(['id'], axis=1, inplace=True)\n",
    "dataset.head()"
   ]
  },
  {
   "cell_type": "markdown",
   "metadata": {},
   "source": [
    "### Separar conjuntos de treino (70%) e validação (30%)"
   ]
  },
  {
   "cell_type": "markdown",
   "metadata": {},
   "source": [
    "O conjunto de teste será utilizado posteriormente, para verificar a capacidade preditiva do modelo. Ele é isolado para que não receba nenhum tipo de viés."
   ]
  },
  {
   "cell_type": "code",
   "execution_count": 5,
   "metadata": {},
   "outputs": [],
   "source": [
    "train, teste_split = train_test_split(dataset.copy(), test_size=0.3)"
   ]
  },
  {
   "cell_type": "markdown",
   "metadata": {},
   "source": [
    "### Gravar conjuntos de validação"
   ]
  },
  {
   "cell_type": "code",
   "execution_count": 6,
   "metadata": {},
   "outputs": [],
   "source": [
    "teste_split.to_csv('datasets/teste_split.csv', index=False)"
   ]
  },
  {
   "cell_type": "markdown",
   "metadata": {},
   "source": [
    "### Tratar valores nulos"
   ]
  },
  {
   "cell_type": "markdown",
   "metadata": {},
   "source": [
    "São tratamentos comuns para valores nulos:\n",
    "- Exclusão do atributo (caso ele seja nulo para grande parte das instâncias)\n",
    "- Exclusão da instância (caso ela seja nula para grande parte dos atributos)\n",
    "- Imputação por estatísticas simples, como média, mediana ou moda (podem ser calculadas para sub-amostras)\n",
    "- Imputação por regressão e modelos preditivos"
   ]
  },
  {
   "cell_type": "code",
   "execution_count": 7,
   "metadata": {},
   "outputs": [
    {
     "data": {
      "text/plain": [
       "idademae            0\n",
       "estadocivilmae     69\n",
       "catprenatal        32\n",
       "qtdsemanas        157\n",
       "tipoparto           4\n",
       "peso                1\n",
       "malformacao       207\n",
       "sexo               32\n",
       "apgar1             75\n",
       "apgar5             74\n",
       "obito               0\n",
       "dtype: int64"
      ]
     },
     "execution_count": 7,
     "metadata": {},
     "output_type": "execute_result"
    }
   ],
   "source": [
    "train.isnull().sum()"
   ]
  },
  {
   "cell_type": "code",
   "execution_count": 8,
   "metadata": {},
   "outputs": [],
   "source": [
    "# Imputar a moda em todas as variáveis\n",
    "for col in train.columns:\n",
    "    train.loc[train[col].isnull(), col] = (train.mode())[col][0]"
   ]
  },
  {
   "cell_type": "code",
   "execution_count": 9,
   "metadata": {},
   "outputs": [
    {
     "data": {
      "text/plain": [
       "idademae          0\n",
       "estadocivilmae    0\n",
       "catprenatal       0\n",
       "qtdsemanas        0\n",
       "tipoparto         0\n",
       "peso              0\n",
       "malformacao       0\n",
       "sexo              0\n",
       "apgar1            0\n",
       "apgar5            0\n",
       "obito             0\n",
       "dtype: int64"
      ]
     },
     "execution_count": 9,
     "metadata": {},
     "output_type": "execute_result"
    }
   ],
   "source": [
    "train.isnull().sum()"
   ]
  },
  {
   "cell_type": "markdown",
   "metadata": {},
   "source": [
    "### Tratar outliers"
   ]
  },
  {
   "cell_type": "markdown",
   "metadata": {},
   "source": [
    "Não será realizado nenhum tratamento"
   ]
  },
  {
   "cell_type": "markdown",
   "metadata": {},
   "source": [
    "### Converter variáveis categóricas em dummies"
   ]
  },
  {
   "cell_type": "markdown",
   "metadata": {},
   "source": [
    "Cada valor possível para uma variável categórica devem ser transformado em um atributo binário (0 ou 1)"
   ]
  },
  {
   "cell_type": "code",
   "execution_count": 10,
   "metadata": {},
   "outputs": [],
   "source": [
    "train = pd.get_dummies(train)"
   ]
  },
  {
   "cell_type": "code",
   "execution_count": 11,
   "metadata": {},
   "outputs": [
    {
     "data": {
      "text/html": [
       "<div>\n",
       "<style scoped>\n",
       "    .dataframe tbody tr th:only-of-type {\n",
       "        vertical-align: middle;\n",
       "    }\n",
       "\n",
       "    .dataframe tbody tr th {\n",
       "        vertical-align: top;\n",
       "    }\n",
       "\n",
       "    .dataframe thead th {\n",
       "        text-align: right;\n",
       "    }\n",
       "</style>\n",
       "<table border=\"1\" class=\"dataframe\">\n",
       "  <thead>\n",
       "    <tr style=\"text-align: right;\">\n",
       "      <th></th>\n",
       "      <th>idademae</th>\n",
       "      <th>qtdsemanas</th>\n",
       "      <th>peso</th>\n",
       "      <th>apgar1</th>\n",
       "      <th>apgar5</th>\n",
       "      <th>obito</th>\n",
       "      <th>estadocivilmae_casada</th>\n",
       "      <th>estadocivilmae_separada</th>\n",
       "      <th>estadocivilmae_uniao</th>\n",
       "      <th>estadocivilmae_viuva</th>\n",
       "      <th>catprenatal_de1a3</th>\n",
       "      <th>catprenatal_de4a6</th>\n",
       "      <th>catprenatal_nenhuma</th>\n",
       "      <th>tipoparto_vaginal</th>\n",
       "      <th>malformacao_sim</th>\n",
       "      <th>sexo_f</th>\n",
       "    </tr>\n",
       "  </thead>\n",
       "  <tbody>\n",
       "    <tr>\n",
       "      <th>8065</th>\n",
       "      <td>28.0</td>\n",
       "      <td>38.0</td>\n",
       "      <td>3970.0</td>\n",
       "      <td>9.0</td>\n",
       "      <td>10.0</td>\n",
       "      <td>0</td>\n",
       "      <td>1</td>\n",
       "      <td>0</td>\n",
       "      <td>0</td>\n",
       "      <td>0</td>\n",
       "      <td>0</td>\n",
       "      <td>0</td>\n",
       "      <td>0</td>\n",
       "      <td>0</td>\n",
       "      <td>0</td>\n",
       "      <td>0</td>\n",
       "    </tr>\n",
       "    <tr>\n",
       "      <th>6134</th>\n",
       "      <td>20.0</td>\n",
       "      <td>39.0</td>\n",
       "      <td>3420.0</td>\n",
       "      <td>9.0</td>\n",
       "      <td>10.0</td>\n",
       "      <td>0</td>\n",
       "      <td>0</td>\n",
       "      <td>0</td>\n",
       "      <td>0</td>\n",
       "      <td>0</td>\n",
       "      <td>0</td>\n",
       "      <td>0</td>\n",
       "      <td>0</td>\n",
       "      <td>0</td>\n",
       "      <td>0</td>\n",
       "      <td>0</td>\n",
       "    </tr>\n",
       "    <tr>\n",
       "      <th>3662</th>\n",
       "      <td>31.0</td>\n",
       "      <td>39.0</td>\n",
       "      <td>2740.0</td>\n",
       "      <td>9.0</td>\n",
       "      <td>10.0</td>\n",
       "      <td>0</td>\n",
       "      <td>0</td>\n",
       "      <td>0</td>\n",
       "      <td>0</td>\n",
       "      <td>0</td>\n",
       "      <td>1</td>\n",
       "      <td>0</td>\n",
       "      <td>0</td>\n",
       "      <td>0</td>\n",
       "      <td>0</td>\n",
       "      <td>0</td>\n",
       "    </tr>\n",
       "    <tr>\n",
       "      <th>3635</th>\n",
       "      <td>18.0</td>\n",
       "      <td>23.0</td>\n",
       "      <td>535.0</td>\n",
       "      <td>1.0</td>\n",
       "      <td>2.0</td>\n",
       "      <td>1</td>\n",
       "      <td>1</td>\n",
       "      <td>0</td>\n",
       "      <td>0</td>\n",
       "      <td>0</td>\n",
       "      <td>0</td>\n",
       "      <td>1</td>\n",
       "      <td>0</td>\n",
       "      <td>1</td>\n",
       "      <td>0</td>\n",
       "      <td>1</td>\n",
       "    </tr>\n",
       "    <tr>\n",
       "      <th>5342</th>\n",
       "      <td>22.0</td>\n",
       "      <td>38.0</td>\n",
       "      <td>3530.0</td>\n",
       "      <td>8.0</td>\n",
       "      <td>9.0</td>\n",
       "      <td>0</td>\n",
       "      <td>0</td>\n",
       "      <td>0</td>\n",
       "      <td>1</td>\n",
       "      <td>0</td>\n",
       "      <td>0</td>\n",
       "      <td>0</td>\n",
       "      <td>0</td>\n",
       "      <td>1</td>\n",
       "      <td>0</td>\n",
       "      <td>0</td>\n",
       "    </tr>\n",
       "  </tbody>\n",
       "</table>\n",
       "</div>"
      ],
      "text/plain": [
       "      idademae  qtdsemanas    peso  apgar1  apgar5  obito  \\\n",
       "8065      28.0        38.0  3970.0     9.0    10.0      0   \n",
       "6134      20.0        39.0  3420.0     9.0    10.0      0   \n",
       "3662      31.0        39.0  2740.0     9.0    10.0      0   \n",
       "3635      18.0        23.0   535.0     1.0     2.0      1   \n",
       "5342      22.0        38.0  3530.0     8.0     9.0      0   \n",
       "\n",
       "      estadocivilmae_casada  estadocivilmae_separada  estadocivilmae_uniao  \\\n",
       "8065                      1                        0                     0   \n",
       "6134                      0                        0                     0   \n",
       "3662                      0                        0                     0   \n",
       "3635                      1                        0                     0   \n",
       "5342                      0                        0                     1   \n",
       "\n",
       "      estadocivilmae_viuva  catprenatal_de1a3  catprenatal_de4a6  \\\n",
       "8065                     0                  0                  0   \n",
       "6134                     0                  0                  0   \n",
       "3662                     0                  1                  0   \n",
       "3635                     0                  0                  1   \n",
       "5342                     0                  0                  0   \n",
       "\n",
       "      catprenatal_nenhuma  tipoparto_vaginal  malformacao_sim  sexo_f  \n",
       "8065                    0                  0                0       0  \n",
       "6134                    0                  0                0       0  \n",
       "3662                    0                  0                0       0  \n",
       "3635                    0                  1                0       1  \n",
       "5342                    0                  1                0       0  "
      ]
     },
     "execution_count": 11,
     "metadata": {},
     "output_type": "execute_result"
    }
   ],
   "source": [
    "# Evitar dummy trap excluindo valores de referência\n",
    "train.drop(['estadocivilmae_solteira', 'catprenatal_7mais', 'tipoparto_cesareo', 'malformacao_nao', 'sexo_m'], axis=1, inplace=True)\n",
    "train.head()"
   ]
  },
  {
   "cell_type": "markdown",
   "metadata": {},
   "source": [
    "### Gravar conjuntos de treino pré-processado"
   ]
  },
  {
   "cell_type": "markdown",
   "metadata": {},
   "source": [
    "Após a finalização do pré-processamento, os dados transformados são salvos."
   ]
  },
  {
   "cell_type": "code",
   "execution_count": 12,
   "metadata": {},
   "outputs": [],
   "source": [
    "train.to_csv('datasets/train-preprocessado.csv', index=False)"
   ]
  },
  {
   "cell_type": "code",
   "execution_count": null,
   "metadata": {},
   "outputs": [],
   "source": []
  }
 ],
 "metadata": {
  "kernelspec": {
   "display_name": "Python 3",
   "language": "python",
   "name": "python3"
  },
  "language_info": {
   "codemirror_mode": {
    "name": "ipython",
    "version": 3
   },
   "file_extension": ".py",
   "mimetype": "text/x-python",
   "name": "python",
   "nbconvert_exporter": "python",
   "pygments_lexer": "ipython3",
   "version": "3.7.6"
  }
 },
 "nbformat": 4,
 "nbformat_minor": 2
}
