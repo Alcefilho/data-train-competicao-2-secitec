{
 "cells": [
  {
   "cell_type": "markdown",
   "metadata": {},
   "source": [
    "# [Data Train] Competição ML #2 - SECITEC 2020 IFG\n",
    "## CRISP-DM: Evaluation\n",
    "**Autor:** Wanderson Marques - wdsmarques@gmail.com\n",
    "\n",
    "Nesse notebook é realizada a **avaliação** do modelo preditivo, onde os dados de validação são utilizados para verificar a capacidade preditiva. Essa é a quinta fase da metodologia CRISP-DM, o evaluation. \n",
    "\n",
    "<img src=\"imgs/evaluation.jpg\" />"
   ]
  },
  {
   "cell_type": "markdown",
   "metadata": {},
   "source": [
    "### Carregar bibliotecas"
   ]
  },
  {
   "cell_type": "code",
   "execution_count": 1,
   "metadata": {},
   "outputs": [],
   "source": [
    "import pandas as pd\n",
    "import numpy as np\n",
    "import joblib\n",
    "import seaborn as sns\n",
    "import matplotlib.pyplot as plt\n",
    "from pylab import rcParams\n",
    "from sklearn.metrics import classification_report, confusion_matrix, accuracy_score, roc_curve, auc"
   ]
  },
  {
   "cell_type": "code",
   "execution_count": 2,
   "metadata": {},
   "outputs": [],
   "source": [
    "# Exibir gráficos dentro do Jupyter Notebook\n",
    "%matplotlib inline\n",
    "\n",
    "# Definir tamanho padrão para os gráficos\n",
    "rcParams['figure.figsize'] = 8, 4"
   ]
  },
  {
   "cell_type": "markdown",
   "metadata": {},
   "source": [
    "### Carregar dataset de validação"
   ]
  },
  {
   "cell_type": "code",
   "execution_count": 3,
   "metadata": {},
   "outputs": [
    {
     "data": {
      "text/html": [
       "<div>\n",
       "<style scoped>\n",
       "    .dataframe tbody tr th:only-of-type {\n",
       "        vertical-align: middle;\n",
       "    }\n",
       "\n",
       "    .dataframe tbody tr th {\n",
       "        vertical-align: top;\n",
       "    }\n",
       "\n",
       "    .dataframe thead th {\n",
       "        text-align: right;\n",
       "    }\n",
       "</style>\n",
       "<table border=\"1\" class=\"dataframe\">\n",
       "  <thead>\n",
       "    <tr style=\"text-align: right;\">\n",
       "      <th></th>\n",
       "      <th>idademae</th>\n",
       "      <th>estadocivilmae</th>\n",
       "      <th>catprenatal</th>\n",
       "      <th>qtdsemanas</th>\n",
       "      <th>tipoparto</th>\n",
       "      <th>peso</th>\n",
       "      <th>malformacao</th>\n",
       "      <th>sexo</th>\n",
       "      <th>apgar1</th>\n",
       "      <th>apgar5</th>\n",
       "      <th>obito</th>\n",
       "    </tr>\n",
       "  </thead>\n",
       "  <tbody>\n",
       "    <tr>\n",
       "      <th>0</th>\n",
       "      <td>24.0</td>\n",
       "      <td>uniao</td>\n",
       "      <td>7mais</td>\n",
       "      <td>43.0</td>\n",
       "      <td>cesareo</td>\n",
       "      <td>2630.0</td>\n",
       "      <td>nao</td>\n",
       "      <td>m</td>\n",
       "      <td>9.0</td>\n",
       "      <td>10.0</td>\n",
       "      <td>0</td>\n",
       "    </tr>\n",
       "    <tr>\n",
       "      <th>1</th>\n",
       "      <td>19.0</td>\n",
       "      <td>uniao</td>\n",
       "      <td>7mais</td>\n",
       "      <td>39.0</td>\n",
       "      <td>cesareo</td>\n",
       "      <td>3510.0</td>\n",
       "      <td>nao</td>\n",
       "      <td>f</td>\n",
       "      <td>9.0</td>\n",
       "      <td>10.0</td>\n",
       "      <td>0</td>\n",
       "    </tr>\n",
       "    <tr>\n",
       "      <th>2</th>\n",
       "      <td>18.0</td>\n",
       "      <td>casada</td>\n",
       "      <td>7mais</td>\n",
       "      <td>42.0</td>\n",
       "      <td>vaginal</td>\n",
       "      <td>2915.0</td>\n",
       "      <td>nao</td>\n",
       "      <td>m</td>\n",
       "      <td>9.0</td>\n",
       "      <td>9.0</td>\n",
       "      <td>0</td>\n",
       "    </tr>\n",
       "    <tr>\n",
       "      <th>3</th>\n",
       "      <td>26.0</td>\n",
       "      <td>casada</td>\n",
       "      <td>7mais</td>\n",
       "      <td>38.0</td>\n",
       "      <td>cesareo</td>\n",
       "      <td>3025.0</td>\n",
       "      <td>sim</td>\n",
       "      <td>f</td>\n",
       "      <td>2.0</td>\n",
       "      <td>4.0</td>\n",
       "      <td>1</td>\n",
       "    </tr>\n",
       "    <tr>\n",
       "      <th>4</th>\n",
       "      <td>15.0</td>\n",
       "      <td>uniao</td>\n",
       "      <td>de4a6</td>\n",
       "      <td>NaN</td>\n",
       "      <td>vaginal</td>\n",
       "      <td>608.0</td>\n",
       "      <td>nao</td>\n",
       "      <td>m</td>\n",
       "      <td>3.0</td>\n",
       "      <td>6.0</td>\n",
       "      <td>1</td>\n",
       "    </tr>\n",
       "  </tbody>\n",
       "</table>\n",
       "</div>"
      ],
      "text/plain": [
       "   idademae estadocivilmae catprenatal  qtdsemanas tipoparto    peso  \\\n",
       "0      24.0          uniao       7mais        43.0   cesareo  2630.0   \n",
       "1      19.0          uniao       7mais        39.0   cesareo  3510.0   \n",
       "2      18.0         casada       7mais        42.0   vaginal  2915.0   \n",
       "3      26.0         casada       7mais        38.0   cesareo  3025.0   \n",
       "4      15.0          uniao       de4a6         NaN   vaginal   608.0   \n",
       "\n",
       "  malformacao sexo  apgar1  apgar5  obito  \n",
       "0         nao    m     9.0    10.0      0  \n",
       "1         nao    f     9.0    10.0      0  \n",
       "2         nao    m     9.0     9.0      0  \n",
       "3         sim    f     2.0     4.0      1  \n",
       "4         nao    m     3.0     6.0      1  "
      ]
     },
     "execution_count": 3,
     "metadata": {},
     "output_type": "execute_result"
    }
   ],
   "source": [
    "dataset = pd.read_csv('datasets/teste_split.csv')\n",
    "dataset.head()"
   ]
  },
  {
   "cell_type": "markdown",
   "metadata": {},
   "source": [
    "### Carregar modelo preditivo"
   ]
  },
  {
   "cell_type": "markdown",
   "metadata": {},
   "source": [
    "Nesse momento o modelo preditivo já foi treinado, com os dados de treino."
   ]
  },
  {
   "cell_type": "code",
   "execution_count": 4,
   "metadata": {},
   "outputs": [],
   "source": [
    "model = joblib.load('models/model.pkl')"
   ]
  },
  {
   "cell_type": "markdown",
   "metadata": {},
   "source": [
    "### Preparar os dados de validação"
   ]
  },
  {
   "cell_type": "code",
   "execution_count": 5,
   "metadata": {},
   "outputs": [],
   "source": [
    "# Imputar a moda em todas as variáveis\n",
    "for col in dataset.columns:\n",
    "    dataset.loc[dataset[col].isnull(), col] = (dataset.mode())[col][0]"
   ]
  },
  {
   "cell_type": "code",
   "execution_count": 6,
   "metadata": {},
   "outputs": [],
   "source": [
    "dataset = pd.get_dummies(dataset)\n",
    "# Evitar dummy trap excluindo valores de referência\n",
    "dataset.drop(['estadocivilmae_solteira', 'catprenatal_7mais', 'tipoparto_cesareo', 'malformacao_nao', 'sexo_m'], axis=1, inplace=True)"
   ]
  },
  {
   "cell_type": "code",
   "execution_count": 7,
   "metadata": {},
   "outputs": [
    {
     "data": {
      "text/html": [
       "<div>\n",
       "<style scoped>\n",
       "    .dataframe tbody tr th:only-of-type {\n",
       "        vertical-align: middle;\n",
       "    }\n",
       "\n",
       "    .dataframe tbody tr th {\n",
       "        vertical-align: top;\n",
       "    }\n",
       "\n",
       "    .dataframe thead th {\n",
       "        text-align: right;\n",
       "    }\n",
       "</style>\n",
       "<table border=\"1\" class=\"dataframe\">\n",
       "  <thead>\n",
       "    <tr style=\"text-align: right;\">\n",
       "      <th></th>\n",
       "      <th>idademae</th>\n",
       "      <th>qtdsemanas</th>\n",
       "      <th>peso</th>\n",
       "      <th>apgar1</th>\n",
       "      <th>apgar5</th>\n",
       "      <th>obito</th>\n",
       "      <th>estadocivilmae_casada</th>\n",
       "      <th>estadocivilmae_separada</th>\n",
       "      <th>estadocivilmae_uniao</th>\n",
       "      <th>estadocivilmae_viuva</th>\n",
       "      <th>catprenatal_de1a3</th>\n",
       "      <th>catprenatal_de4a6</th>\n",
       "      <th>catprenatal_nenhuma</th>\n",
       "      <th>tipoparto_vaginal</th>\n",
       "      <th>malformacao_sim</th>\n",
       "      <th>sexo_f</th>\n",
       "    </tr>\n",
       "  </thead>\n",
       "  <tbody>\n",
       "    <tr>\n",
       "      <th>0</th>\n",
       "      <td>24.0</td>\n",
       "      <td>43.0</td>\n",
       "      <td>2630.0</td>\n",
       "      <td>9.0</td>\n",
       "      <td>10.0</td>\n",
       "      <td>0</td>\n",
       "      <td>0</td>\n",
       "      <td>0</td>\n",
       "      <td>1</td>\n",
       "      <td>0</td>\n",
       "      <td>0</td>\n",
       "      <td>0</td>\n",
       "      <td>0</td>\n",
       "      <td>0</td>\n",
       "      <td>0</td>\n",
       "      <td>0</td>\n",
       "    </tr>\n",
       "    <tr>\n",
       "      <th>1</th>\n",
       "      <td>19.0</td>\n",
       "      <td>39.0</td>\n",
       "      <td>3510.0</td>\n",
       "      <td>9.0</td>\n",
       "      <td>10.0</td>\n",
       "      <td>0</td>\n",
       "      <td>0</td>\n",
       "      <td>0</td>\n",
       "      <td>1</td>\n",
       "      <td>0</td>\n",
       "      <td>0</td>\n",
       "      <td>0</td>\n",
       "      <td>0</td>\n",
       "      <td>0</td>\n",
       "      <td>0</td>\n",
       "      <td>1</td>\n",
       "    </tr>\n",
       "    <tr>\n",
       "      <th>2</th>\n",
       "      <td>18.0</td>\n",
       "      <td>42.0</td>\n",
       "      <td>2915.0</td>\n",
       "      <td>9.0</td>\n",
       "      <td>9.0</td>\n",
       "      <td>0</td>\n",
       "      <td>1</td>\n",
       "      <td>0</td>\n",
       "      <td>0</td>\n",
       "      <td>0</td>\n",
       "      <td>0</td>\n",
       "      <td>0</td>\n",
       "      <td>0</td>\n",
       "      <td>1</td>\n",
       "      <td>0</td>\n",
       "      <td>0</td>\n",
       "    </tr>\n",
       "    <tr>\n",
       "      <th>3</th>\n",
       "      <td>26.0</td>\n",
       "      <td>38.0</td>\n",
       "      <td>3025.0</td>\n",
       "      <td>2.0</td>\n",
       "      <td>4.0</td>\n",
       "      <td>1</td>\n",
       "      <td>1</td>\n",
       "      <td>0</td>\n",
       "      <td>0</td>\n",
       "      <td>0</td>\n",
       "      <td>0</td>\n",
       "      <td>0</td>\n",
       "      <td>0</td>\n",
       "      <td>0</td>\n",
       "      <td>1</td>\n",
       "      <td>1</td>\n",
       "    </tr>\n",
       "    <tr>\n",
       "      <th>4</th>\n",
       "      <td>15.0</td>\n",
       "      <td>39.0</td>\n",
       "      <td>608.0</td>\n",
       "      <td>3.0</td>\n",
       "      <td>6.0</td>\n",
       "      <td>1</td>\n",
       "      <td>0</td>\n",
       "      <td>0</td>\n",
       "      <td>1</td>\n",
       "      <td>0</td>\n",
       "      <td>0</td>\n",
       "      <td>1</td>\n",
       "      <td>0</td>\n",
       "      <td>1</td>\n",
       "      <td>0</td>\n",
       "      <td>0</td>\n",
       "    </tr>\n",
       "  </tbody>\n",
       "</table>\n",
       "</div>"
      ],
      "text/plain": [
       "   idademae  qtdsemanas    peso  apgar1  apgar5  obito  estadocivilmae_casada  \\\n",
       "0      24.0        43.0  2630.0     9.0    10.0      0                      0   \n",
       "1      19.0        39.0  3510.0     9.0    10.0      0                      0   \n",
       "2      18.0        42.0  2915.0     9.0     9.0      0                      1   \n",
       "3      26.0        38.0  3025.0     2.0     4.0      1                      1   \n",
       "4      15.0        39.0   608.0     3.0     6.0      1                      0   \n",
       "\n",
       "   estadocivilmae_separada  estadocivilmae_uniao  estadocivilmae_viuva  \\\n",
       "0                        0                     1                     0   \n",
       "1                        0                     1                     0   \n",
       "2                        0                     0                     0   \n",
       "3                        0                     0                     0   \n",
       "4                        0                     1                     0   \n",
       "\n",
       "   catprenatal_de1a3  catprenatal_de4a6  catprenatal_nenhuma  \\\n",
       "0                  0                  0                    0   \n",
       "1                  0                  0                    0   \n",
       "2                  0                  0                    0   \n",
       "3                  0                  0                    0   \n",
       "4                  0                  1                    0   \n",
       "\n",
       "   tipoparto_vaginal  malformacao_sim  sexo_f  \n",
       "0                  0                0       0  \n",
       "1                  0                0       1  \n",
       "2                  1                0       0  \n",
       "3                  0                1       1  \n",
       "4                  1                0       0  "
      ]
     },
     "execution_count": 7,
     "metadata": {},
     "output_type": "execute_result"
    }
   ],
   "source": [
    "dataset.head()"
   ]
  },
  {
   "cell_type": "markdown",
   "metadata": {},
   "source": [
    "### Separar atributos e classe "
   ]
  },
  {
   "cell_type": "code",
   "execution_count": 8,
   "metadata": {},
   "outputs": [],
   "source": [
    "X = dataset.drop(['obito'], axis=1)\n",
    "y = dataset['obito']"
   ]
  },
  {
   "cell_type": "markdown",
   "metadata": {},
   "source": [
    "### Realizar predição para conjunto de validação"
   ]
  },
  {
   "cell_type": "code",
   "execution_count": 9,
   "metadata": {},
   "outputs": [],
   "source": [
    "y_pred = model.predict(X)\n",
    "y_proba = model.predict_proba(X)"
   ]
  },
  {
   "cell_type": "markdown",
   "metadata": {},
   "source": [
    "### Gerar matriz de confusão"
   ]
  },
  {
   "cell_type": "code",
   "execution_count": 10,
   "metadata": {},
   "outputs": [
    {
     "data": {
      "text/plain": [
       "Text(0.5, 15.0, 'Predicted label')"
      ]
     },
     "execution_count": 10,
     "metadata": {},
     "output_type": "execute_result"
    },
    {
     "data": {
      "image/png": "[encoded data removed]",
      "text/plain": [
       "<Figure size 576x288 with 2 Axes>"
      ]
     },
     "metadata": {
      "needs_background": "light"
     },
     "output_type": "display_data"
    }
   ],
   "source": [
    "cm = confusion_matrix(y, y_pred)\n",
    "\n",
    "sns.heatmap(cm, annot=True, cmap='Blues', fmt='g')\n",
    "plt.title('Matriz de Confusão')\n",
    "plt.ylabel('True label')\n",
    "plt.xlabel('Predicted label')"
   ]
  },
  {
   "cell_type": "markdown",
   "metadata": {},
   "source": [
    "### Calcular métricas de classificação"
   ]
  },
  {
   "cell_type": "code",
   "execution_count": 11,
   "metadata": {},
   "outputs": [
    {
     "data": {
      "text/plain": [
       "0.9145449224465906"
      ]
     },
     "execution_count": 11,
     "metadata": {},
     "output_type": "execute_result"
    }
   ],
   "source": [
    "accuracy_score(y, y_pred)"
   ]
  },
  {
   "cell_type": "code",
   "execution_count": 12,
   "metadata": {},
   "outputs": [
    {
     "name": "stdout",
     "output_type": "stream",
     "text": [
      "              precision    recall  f1-score   support\n",
      "\n",
      "           0       0.92      0.97      0.94      2529\n",
      "           1       0.89      0.77      0.82       888\n",
      "\n",
      "    accuracy                           0.91      3417\n",
      "   macro avg       0.91      0.87      0.88      3417\n",
      "weighted avg       0.91      0.91      0.91      3417\n",
      "\n"
     ]
    }
   ],
   "source": [
    "print(classification_report(y, y_pred))"
   ]
  },
  {
   "cell_type": "markdown",
   "metadata": {
    "collapsed": true
   },
   "source": [
    "### Gerar curva ROC"
   ]
  },
  {
   "cell_type": "code",
   "execution_count": 13,
   "metadata": {},
   "outputs": [],
   "source": [
    "fp, tp, thresholds = roc_curve(y, y_proba[:, 1])"
   ]
  },
  {
   "cell_type": "code",
   "execution_count": 14,
   "metadata": {},
   "outputs": [
    {
     "data": {
      "text/plain": [
       "Text(0.5, 1.0, 'Curva ROC')"
      ]
     },
     "execution_count": 14,
     "metadata": {},
     "output_type": "execute_result"
    },
    {
     "data": {
      "image/png": "[encoded data removed]",
      "text/plain": [
       "<Figure size 576x288 with 1 Axes>"
      ]
     },
     "metadata": {
      "needs_background": "light"
     },
     "output_type": "display_data"
    }
   ],
   "source": [
    "plt.plot(fp, tp)\n",
    "\n",
    "plt.plot([0, 1], [0, 1], '--')\n",
    "plt.xlim([0.0, 1.0])\n",
    "plt.ylim([0.0, 1.0])\n",
    "\n",
    "plt.xlabel('Falso Positivo')\n",
    "plt.ylabel('Verdadeiro Positivo')\n",
    "plt.title('Curva ROC')"
   ]
  },
  {
   "cell_type": "code",
   "execution_count": 15,
   "metadata": {},
   "outputs": [
    {
     "data": {
      "text/plain": [
       "0.9227082954840962"
      ]
     },
     "execution_count": 15,
     "metadata": {},
     "output_type": "execute_result"
    }
   ],
   "source": [
    "# Área sob a curva ROC\n",
    "auc(fp, tp)"
   ]
  },
  {
   "cell_type": "code",
   "execution_count": null,
   "metadata": {},
   "outputs": [],
   "source": []
  }
 ],
 "metadata": {
  "kernelspec": {
   "display_name": "Python 3",
   "language": "python",
   "name": "python3"
  },
  "language_info": {
   "codemirror_mode": {
    "name": "ipython",
    "version": 3
   },
   "file_extension": ".py",
   "mimetype": "text/x-python",
   "name": "python",
   "nbconvert_exporter": "python",
   "pygments_lexer": "ipython3",
   "version": "3.7.6"
  }
 },
 "nbformat": 4,
 "nbformat_minor": 2
}
